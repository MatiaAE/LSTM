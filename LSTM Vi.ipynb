{
 "cells": [
  {
   "cell_type": "code",
   "execution_count": 1,
   "metadata": {},
   "outputs": [
    {
     "name": "stderr",
     "output_type": "stream",
     "text": [
      "Using TensorFlow backend.\n",
      "/home/alex/anaconda3/lib/python3.6/importlib/_bootstrap.py:219: RuntimeWarning: compiletime version 3.5 of module 'tensorflow.python.framework.fast_tensor_util' does not match runtime version 3.6\n",
      "  return f(*args, **kwds)\n"
     ]
    }
   ],
   "source": [
    "import pandas as pd\n",
    "import matplotlib.pyplot as plt\n",
    "import matplotlib.dates as dates\n",
    "import math\n",
    "import numpy as np\n",
    "from keras.models import Sequential\n",
    "from keras.layers import Dense\n",
    "from keras.layers import LSTM\n",
    "from sklearn.preprocessing import MinMaxScaler\n",
    "from sklearn.metrics import mean_squared_error\n",
    "import os\n",
    "from tqdm import tqdm\n",
    "np.random.seed(7)"
   ]
  },
  {
   "cell_type": "code",
   "execution_count": 2,
   "metadata": {
    "collapsed": true
   },
   "outputs": [],
   "source": [
    "data_path = '/home/alex/Desktop/kaggle/Grocery/data/'\n",
    "Holiday_Events = pd.read_csv(data_path + 'holidays_events.csv')\n",
    "Items = pd.read_csv(data_path + 'items.csv')\n",
    "Oil = pd.read_csv(data_path + 'oil.csv')\n",
    "Sample_Submission = pd.read_csv(data_path + 'sample_submission.csv')\n",
    "Stores = pd.read_csv(data_path + 'stores.csv')\n",
    "Test = pd.read_csv(data_path + 'test.csv')\n",
    "Transactions = pd.read_csv(data_path + 'transactions.csv')\n",
    "database_path = data_path + 'databases2/'"
   ]
  },
  {
   "cell_type": "code",
   "execution_count": 3,
   "metadata": {},
   "outputs": [
    {
     "data": {
      "text/html": [
       "<div>\n",
       "<style scoped>\n",
       "    .dataframe tbody tr th:only-of-type {\n",
       "        vertical-align: middle;\n",
       "    }\n",
       "\n",
       "    .dataframe tbody tr th {\n",
       "        vertical-align: top;\n",
       "    }\n",
       "\n",
       "    .dataframe thead th {\n",
       "        text-align: right;\n",
       "    }\n",
       "</style>\n",
       "<table border=\"1\" class=\"dataframe\">\n",
       "  <thead>\n",
       "    <tr style=\"text-align: right;\">\n",
       "      <th></th>\n",
       "      <th>id</th>\n",
       "      <th>date</th>\n",
       "      <th>store_nbr</th>\n",
       "      <th>item_nbr</th>\n",
       "      <th>onpromotion</th>\n",
       "    </tr>\n",
       "  </thead>\n",
       "  <tbody>\n",
       "    <tr>\n",
       "      <th>0</th>\n",
       "      <td>125497040</td>\n",
       "      <td>2017-08-16</td>\n",
       "      <td>1</td>\n",
       "      <td>96995</td>\n",
       "      <td>False</td>\n",
       "    </tr>\n",
       "    <tr>\n",
       "      <th>1</th>\n",
       "      <td>125497041</td>\n",
       "      <td>2017-08-16</td>\n",
       "      <td>1</td>\n",
       "      <td>99197</td>\n",
       "      <td>False</td>\n",
       "    </tr>\n",
       "    <tr>\n",
       "      <th>2</th>\n",
       "      <td>125497042</td>\n",
       "      <td>2017-08-16</td>\n",
       "      <td>1</td>\n",
       "      <td>103501</td>\n",
       "      <td>False</td>\n",
       "    </tr>\n",
       "    <tr>\n",
       "      <th>3</th>\n",
       "      <td>125497043</td>\n",
       "      <td>2017-08-16</td>\n",
       "      <td>1</td>\n",
       "      <td>103520</td>\n",
       "      <td>False</td>\n",
       "    </tr>\n",
       "    <tr>\n",
       "      <th>4</th>\n",
       "      <td>125497044</td>\n",
       "      <td>2017-08-16</td>\n",
       "      <td>1</td>\n",
       "      <td>103665</td>\n",
       "      <td>False</td>\n",
       "    </tr>\n",
       "  </tbody>\n",
       "</table>\n",
       "</div>"
      ],
      "text/plain": [
       "          id        date  store_nbr  item_nbr  onpromotion\n",
       "0  125497040  2017-08-16          1     96995        False\n",
       "1  125497041  2017-08-16          1     99197        False\n",
       "2  125497042  2017-08-16          1    103501        False\n",
       "3  125497043  2017-08-16          1    103520        False\n",
       "4  125497044  2017-08-16          1    103665        False"
      ]
     },
     "execution_count": 3,
     "metadata": {},
     "output_type": "execute_result"
    }
   ],
   "source": [
    "Test.head()"
   ]
  },
  {
   "cell_type": "code",
   "execution_count": 4,
   "metadata": {},
   "outputs": [
    {
     "name": "stdout",
     "output_type": "stream",
     "text": [
      "(210654, 2)\n"
     ]
    }
   ],
   "source": [
    "Test_Items = Test.loc[:,['item_nbr','store_nbr']]\n",
    "#Test_Items = Test_Items.groupby(['id','store_nbr']).size().reset_index().rename(columns={0:'count'})\n",
    "#Test_Items.head()\n",
    "Test_Items = Test_Items.drop_duplicates()\n",
    "print(Test_Items.shape)"
   ]
  },
  {
   "cell_type": "code",
   "execution_count": 5,
   "metadata": {
    "collapsed": true
   },
   "outputs": [],
   "source": [
    "#Check for existence of item-store combinations within train data\n",
    "\n",
    "Train_Items = []\n",
    "for root, dirs, files in os.walk(database_path):\n",
    "    for filename in files:\n",
    "        Train_Items.append(filename)\n",
    "        \n"
   ]
  },
  {
   "cell_type": "code",
   "execution_count": 47,
   "metadata": {
    "collapsed": true
   },
   "outputs": [],
   "source": [
    "T2 =[T[5:] for T in Train_Items]\n",
    "T3 = [T[0:len(T2[1])-4] for T in T2]"
   ]
  },
  {
   "cell_type": "code",
   "execution_count": 6,
   "metadata": {},
   "outputs": [
    {
     "data": {
      "text/html": [
       "<div>\n",
       "<style scoped>\n",
       "    .dataframe tbody tr th:only-of-type {\n",
       "        vertical-align: middle;\n",
       "    }\n",
       "\n",
       "    .dataframe tbody tr th {\n",
       "        vertical-align: top;\n",
       "    }\n",
       "\n",
       "    .dataframe thead th {\n",
       "        text-align: right;\n",
       "    }\n",
       "</style>\n",
       "<table border=\"1\" class=\"dataframe\">\n",
       "  <thead>\n",
       "    <tr style=\"text-align: right;\">\n",
       "      <th></th>\n",
       "      <th>item_nbr</th>\n",
       "    </tr>\n",
       "  </thead>\n",
       "  <tbody>\n",
       "    <tr>\n",
       "      <th>0</th>\n",
       "      <td>103665.0</td>\n",
       "    </tr>\n",
       "    <tr>\n",
       "      <th>1</th>\n",
       "      <td>105574.0</td>\n",
       "    </tr>\n",
       "    <tr>\n",
       "      <th>2</th>\n",
       "      <td>105575.0</td>\n",
       "    </tr>\n",
       "    <tr>\n",
       "      <th>3</th>\n",
       "      <td>108079.0</td>\n",
       "    </tr>\n",
       "    <tr>\n",
       "      <th>4</th>\n",
       "      <td>108701.0</td>\n",
       "    </tr>\n",
       "  </tbody>\n",
       "</table>\n",
       "</div>"
      ],
      "text/plain": [
       "   item_nbr\n",
       "0  103665.0\n",
       "1  105574.0\n",
       "2  105575.0\n",
       "3  108079.0\n",
       "4  108701.0"
      ]
     },
     "execution_count": 6,
     "metadata": {},
     "output_type": "execute_result"
    },
    {
     "name": "stderr",
     "output_type": "stream",
     "text": [
      "\r",
      "257it [00:30,  8.56it/s]"
     ]
    }
   ],
   "source": [
    "train_item_set.head()"
   ]
  },
  {
   "cell_type": "code",
   "execution_count": 7,
   "metadata": {},
   "outputs": [
    {
     "name": "stderr",
     "output_type": "stream",
     "text": [
      "1255it [01:03, 19.78it/s]\n"
     ]
    }
   ],
   "source": [
    "train_item_set = pd.DataFrame({'item_nbr' : []})\n",
    "Train_Items = pd.read_csv(data_path + 'train.csv', chunksize = 100000)\n",
    "for a in tqdm(Train_Items):\n",
    "    tmp = pd.DataFrame({'item_nbr': a.item_nbr.unique()})\n",
    "    train_item_set = train_item_set.append(tmp)\n",
    "#train_item_set.item_nbr = train_item_set.item_nbr.unique()"
   ]
  },
  {
   "cell_type": "code",
   "execution_count": 8,
   "metadata": {
    "collapsed": true
   },
   "outputs": [],
   "source": [
    "train_item_set_list = [int(R) for R in train_item_set.item_nbr.tolist()]"
   ]
  },
  {
   "cell_type": "code",
   "execution_count": 11,
   "metadata": {
    "collapsed": true
   },
   "outputs": [],
   "source": [
    "train_item_set_list = train_item_set.item_nbr.tolist()\n",
    "Test_Items['Candidate'] = Test_Items['item_nbr'].isin(train_item_set_list)"
   ]
  },
  {
   "cell_type": "code",
   "execution_count": 12,
   "metadata": {
    "scrolled": false
   },
   "outputs": [
    {
     "data": {
      "text/plain": [
       "True     207414\n",
       "False      3240\n",
       "Name: Candidate, dtype: int64"
      ]
     },
     "execution_count": 12,
     "metadata": {},
     "output_type": "execute_result"
    }
   ],
   "source": [
    "Test_Items.Candidate.value_counts()"
   ]
  },
  {
   "cell_type": "code",
   "execution_count": 20,
   "metadata": {},
   "outputs": [
    {
     "data": {
      "text/plain": [
       "96995"
      ]
     },
     "execution_count": 20,
     "metadata": {},
     "output_type": "execute_result"
    }
   ],
   "source": [
    "Test_Item_Candidates = Test_Items[Test_Items.Candidate == True]\n",
    "Test_Item_Candidates.item_nbr[0]"
   ]
  },
  {
   "cell_type": "code",
   "execution_count": 29,
   "metadata": {
    "scrolled": true
   },
   "outputs": [
    {
     "data": {
      "text/html": [
       "<div>\n",
       "<style scoped>\n",
       "    .dataframe tbody tr th:only-of-type {\n",
       "        vertical-align: middle;\n",
       "    }\n",
       "\n",
       "    .dataframe tbody tr th {\n",
       "        vertical-align: top;\n",
       "    }\n",
       "\n",
       "    .dataframe thead th {\n",
       "        text-align: right;\n",
       "    }\n",
       "</style>\n",
       "<table border=\"1\" class=\"dataframe\">\n",
       "  <thead>\n",
       "    <tr style=\"text-align: right;\">\n",
       "      <th></th>\n",
       "      <th>time_step</th>\n",
       "      <th>unit_sales_1</th>\n",
       "      <th>unit_sales_2</th>\n",
       "      <th>unit_sales_3</th>\n",
       "      <th>unit_sales_4</th>\n",
       "      <th>unit_sales_5</th>\n",
       "      <th>unit_sales_6</th>\n",
       "      <th>unit_sales_7</th>\n",
       "      <th>unit_sales_8</th>\n",
       "      <th>unit_sales_9</th>\n",
       "      <th>...</th>\n",
       "      <th>onpromotion_44</th>\n",
       "      <th>onpromotion_45</th>\n",
       "      <th>onpromotion_46</th>\n",
       "      <th>onpromotion_47</th>\n",
       "      <th>onpromotion_48</th>\n",
       "      <th>onpromotion_49</th>\n",
       "      <th>onpromotion_50</th>\n",
       "      <th>onpromotion_51</th>\n",
       "      <th>onpromotion_52</th>\n",
       "      <th>onpromotion_53</th>\n",
       "    </tr>\n",
       "  </thead>\n",
       "  <tbody>\n",
       "    <tr>\n",
       "      <th>1671</th>\n",
       "      <td>1672</td>\n",
       "      <td>0.0</td>\n",
       "      <td>0.0</td>\n",
       "      <td>0.0</td>\n",
       "      <td>0.0</td>\n",
       "      <td>0.0</td>\n",
       "      <td>0.0</td>\n",
       "      <td>0.0</td>\n",
       "      <td>0.0</td>\n",
       "      <td>0.0</td>\n",
       "      <td>...</td>\n",
       "      <td>False</td>\n",
       "      <td>False</td>\n",
       "      <td>False</td>\n",
       "      <td>False</td>\n",
       "      <td>False</td>\n",
       "      <td>False</td>\n",
       "      <td>False</td>\n",
       "      <td>False</td>\n",
       "      <td>False</td>\n",
       "      <td>False</td>\n",
       "    </tr>\n",
       "    <tr>\n",
       "      <th>1672</th>\n",
       "      <td>1673</td>\n",
       "      <td>6.0</td>\n",
       "      <td>5.0</td>\n",
       "      <td>2.0</td>\n",
       "      <td>-100.0</td>\n",
       "      <td>1.0</td>\n",
       "      <td>-100.0</td>\n",
       "      <td>2.0</td>\n",
       "      <td>9.0</td>\n",
       "      <td>-100.0</td>\n",
       "      <td>...</td>\n",
       "      <td>False</td>\n",
       "      <td>False</td>\n",
       "      <td>False</td>\n",
       "      <td>False</td>\n",
       "      <td>False</td>\n",
       "      <td>False</td>\n",
       "      <td>False</td>\n",
       "      <td>False</td>\n",
       "      <td>False</td>\n",
       "      <td>False</td>\n",
       "    </tr>\n",
       "    <tr>\n",
       "      <th>1673</th>\n",
       "      <td>1674</td>\n",
       "      <td>1.0</td>\n",
       "      <td>2.0</td>\n",
       "      <td>2.0</td>\n",
       "      <td>3.0</td>\n",
       "      <td>1.0</td>\n",
       "      <td>5.0</td>\n",
       "      <td>8.0</td>\n",
       "      <td>5.0</td>\n",
       "      <td>-100.0</td>\n",
       "      <td>...</td>\n",
       "      <td>False</td>\n",
       "      <td>False</td>\n",
       "      <td>False</td>\n",
       "      <td>False</td>\n",
       "      <td>False</td>\n",
       "      <td>False</td>\n",
       "      <td>False</td>\n",
       "      <td>False</td>\n",
       "      <td>False</td>\n",
       "      <td>False</td>\n",
       "    </tr>\n",
       "    <tr>\n",
       "      <th>1674</th>\n",
       "      <td>1675</td>\n",
       "      <td>5.0</td>\n",
       "      <td>3.0</td>\n",
       "      <td>13.0</td>\n",
       "      <td>7.0</td>\n",
       "      <td>-100.0</td>\n",
       "      <td>2.0</td>\n",
       "      <td>-100.0</td>\n",
       "      <td>3.0</td>\n",
       "      <td>-100.0</td>\n",
       "      <td>...</td>\n",
       "      <td>False</td>\n",
       "      <td>False</td>\n",
       "      <td>False</td>\n",
       "      <td>False</td>\n",
       "      <td>False</td>\n",
       "      <td>False</td>\n",
       "      <td>False</td>\n",
       "      <td>False</td>\n",
       "      <td>False</td>\n",
       "      <td>False</td>\n",
       "    </tr>\n",
       "    <tr>\n",
       "      <th>1675</th>\n",
       "      <td>1676</td>\n",
       "      <td>17.0</td>\n",
       "      <td>6.0</td>\n",
       "      <td>11.0</td>\n",
       "      <td>-100.0</td>\n",
       "      <td>3.0</td>\n",
       "      <td>13.0</td>\n",
       "      <td>-100.0</td>\n",
       "      <td>2.0</td>\n",
       "      <td>-100.0</td>\n",
       "      <td>...</td>\n",
       "      <td>False</td>\n",
       "      <td>False</td>\n",
       "      <td>False</td>\n",
       "      <td>False</td>\n",
       "      <td>False</td>\n",
       "      <td>False</td>\n",
       "      <td>False</td>\n",
       "      <td>False</td>\n",
       "      <td>False</td>\n",
       "      <td>False</td>\n",
       "    </tr>\n",
       "    <tr>\n",
       "      <th>1676</th>\n",
       "      <td>1677</td>\n",
       "      <td>2.0</td>\n",
       "      <td>22.0</td>\n",
       "      <td>13.0</td>\n",
       "      <td>6.0</td>\n",
       "      <td>5.0</td>\n",
       "      <td>1.0</td>\n",
       "      <td>1.0</td>\n",
       "      <td>15.0</td>\n",
       "      <td>-100.0</td>\n",
       "      <td>...</td>\n",
       "      <td>False</td>\n",
       "      <td>False</td>\n",
       "      <td>False</td>\n",
       "      <td>False</td>\n",
       "      <td>False</td>\n",
       "      <td>False</td>\n",
       "      <td>False</td>\n",
       "      <td>False</td>\n",
       "      <td>False</td>\n",
       "      <td>False</td>\n",
       "    </tr>\n",
       "    <tr>\n",
       "      <th>1677</th>\n",
       "      <td>1678</td>\n",
       "      <td>0.0</td>\n",
       "      <td>0.0</td>\n",
       "      <td>0.0</td>\n",
       "      <td>0.0</td>\n",
       "      <td>0.0</td>\n",
       "      <td>0.0</td>\n",
       "      <td>0.0</td>\n",
       "      <td>0.0</td>\n",
       "      <td>0.0</td>\n",
       "      <td>...</td>\n",
       "      <td>False</td>\n",
       "      <td>False</td>\n",
       "      <td>False</td>\n",
       "      <td>False</td>\n",
       "      <td>False</td>\n",
       "      <td>False</td>\n",
       "      <td>False</td>\n",
       "      <td>False</td>\n",
       "      <td>False</td>\n",
       "      <td>False</td>\n",
       "    </tr>\n",
       "    <tr>\n",
       "      <th>1678</th>\n",
       "      <td>1679</td>\n",
       "      <td>0.0</td>\n",
       "      <td>0.0</td>\n",
       "      <td>0.0</td>\n",
       "      <td>0.0</td>\n",
       "      <td>0.0</td>\n",
       "      <td>0.0</td>\n",
       "      <td>0.0</td>\n",
       "      <td>0.0</td>\n",
       "      <td>0.0</td>\n",
       "      <td>...</td>\n",
       "      <td>False</td>\n",
       "      <td>False</td>\n",
       "      <td>False</td>\n",
       "      <td>False</td>\n",
       "      <td>False</td>\n",
       "      <td>False</td>\n",
       "      <td>False</td>\n",
       "      <td>False</td>\n",
       "      <td>False</td>\n",
       "      <td>False</td>\n",
       "    </tr>\n",
       "    <tr>\n",
       "      <th>1679</th>\n",
       "      <td>1680</td>\n",
       "      <td>2.0</td>\n",
       "      <td>1.0</td>\n",
       "      <td>5.0</td>\n",
       "      <td>-100.0</td>\n",
       "      <td>-100.0</td>\n",
       "      <td>6.0</td>\n",
       "      <td>-100.0</td>\n",
       "      <td>2.0</td>\n",
       "      <td>-100.0</td>\n",
       "      <td>...</td>\n",
       "      <td>False</td>\n",
       "      <td>False</td>\n",
       "      <td>False</td>\n",
       "      <td>False</td>\n",
       "      <td>False</td>\n",
       "      <td>False</td>\n",
       "      <td>False</td>\n",
       "      <td>False</td>\n",
       "      <td>False</td>\n",
       "      <td>False</td>\n",
       "    </tr>\n",
       "    <tr>\n",
       "      <th>1680</th>\n",
       "      <td>1681</td>\n",
       "      <td>4.0</td>\n",
       "      <td>3.0</td>\n",
       "      <td>6.0</td>\n",
       "      <td>3.0</td>\n",
       "      <td>4.0</td>\n",
       "      <td>8.0</td>\n",
       "      <td>5.0</td>\n",
       "      <td>1.0</td>\n",
       "      <td>-100.0</td>\n",
       "      <td>...</td>\n",
       "      <td>False</td>\n",
       "      <td>False</td>\n",
       "      <td>False</td>\n",
       "      <td>False</td>\n",
       "      <td>False</td>\n",
       "      <td>False</td>\n",
       "      <td>False</td>\n",
       "      <td>False</td>\n",
       "      <td>False</td>\n",
       "      <td>False</td>\n",
       "    </tr>\n",
       "    <tr>\n",
       "      <th>1681</th>\n",
       "      <td>1682</td>\n",
       "      <td>1.0</td>\n",
       "      <td>-100.0</td>\n",
       "      <td>15.0</td>\n",
       "      <td>-100.0</td>\n",
       "      <td>1.0</td>\n",
       "      <td>2.0</td>\n",
       "      <td>-100.0</td>\n",
       "      <td>10.0</td>\n",
       "      <td>-100.0</td>\n",
       "      <td>...</td>\n",
       "      <td>False</td>\n",
       "      <td>False</td>\n",
       "      <td>False</td>\n",
       "      <td>False</td>\n",
       "      <td>False</td>\n",
       "      <td>False</td>\n",
       "      <td>False</td>\n",
       "      <td>False</td>\n",
       "      <td>False</td>\n",
       "      <td>False</td>\n",
       "    </tr>\n",
       "    <tr>\n",
       "      <th>1682</th>\n",
       "      <td>1683</td>\n",
       "      <td>10.0</td>\n",
       "      <td>3.0</td>\n",
       "      <td>10.0</td>\n",
       "      <td>2.0</td>\n",
       "      <td>-100.0</td>\n",
       "      <td>3.0</td>\n",
       "      <td>1.0</td>\n",
       "      <td>14.0</td>\n",
       "      <td>-100.0</td>\n",
       "      <td>...</td>\n",
       "      <td>False</td>\n",
       "      <td>False</td>\n",
       "      <td>False</td>\n",
       "      <td>False</td>\n",
       "      <td>False</td>\n",
       "      <td>False</td>\n",
       "      <td>False</td>\n",
       "      <td>False</td>\n",
       "      <td>False</td>\n",
       "      <td>False</td>\n",
       "    </tr>\n",
       "    <tr>\n",
       "      <th>1683</th>\n",
       "      <td>1684</td>\n",
       "      <td>2.0</td>\n",
       "      <td>16.0</td>\n",
       "      <td>8.0</td>\n",
       "      <td>7.0</td>\n",
       "      <td>-100.0</td>\n",
       "      <td>2.0</td>\n",
       "      <td>-100.0</td>\n",
       "      <td>14.0</td>\n",
       "      <td>-100.0</td>\n",
       "      <td>...</td>\n",
       "      <td>False</td>\n",
       "      <td>False</td>\n",
       "      <td>False</td>\n",
       "      <td>False</td>\n",
       "      <td>False</td>\n",
       "      <td>False</td>\n",
       "      <td>False</td>\n",
       "      <td>False</td>\n",
       "      <td>False</td>\n",
       "      <td>False</td>\n",
       "    </tr>\n",
       "    <tr>\n",
       "      <th>1684</th>\n",
       "      <td>1685</td>\n",
       "      <td>0.0</td>\n",
       "      <td>0.0</td>\n",
       "      <td>0.0</td>\n",
       "      <td>0.0</td>\n",
       "      <td>0.0</td>\n",
       "      <td>0.0</td>\n",
       "      <td>0.0</td>\n",
       "      <td>0.0</td>\n",
       "      <td>0.0</td>\n",
       "      <td>...</td>\n",
       "      <td>False</td>\n",
       "      <td>False</td>\n",
       "      <td>False</td>\n",
       "      <td>False</td>\n",
       "      <td>False</td>\n",
       "      <td>False</td>\n",
       "      <td>False</td>\n",
       "      <td>False</td>\n",
       "      <td>False</td>\n",
       "      <td>False</td>\n",
       "    </tr>\n",
       "    <tr>\n",
       "      <th>1685</th>\n",
       "      <td>1686</td>\n",
       "      <td>0.0</td>\n",
       "      <td>0.0</td>\n",
       "      <td>0.0</td>\n",
       "      <td>0.0</td>\n",
       "      <td>0.0</td>\n",
       "      <td>0.0</td>\n",
       "      <td>0.0</td>\n",
       "      <td>0.0</td>\n",
       "      <td>0.0</td>\n",
       "      <td>...</td>\n",
       "      <td>False</td>\n",
       "      <td>False</td>\n",
       "      <td>False</td>\n",
       "      <td>False</td>\n",
       "      <td>False</td>\n",
       "      <td>False</td>\n",
       "      <td>False</td>\n",
       "      <td>False</td>\n",
       "      <td>False</td>\n",
       "      <td>False</td>\n",
       "    </tr>\n",
       "    <tr>\n",
       "      <th>1686</th>\n",
       "      <td>1687</td>\n",
       "      <td>8.0</td>\n",
       "      <td>1.0</td>\n",
       "      <td>2.0</td>\n",
       "      <td>1.0</td>\n",
       "      <td>-100.0</td>\n",
       "      <td>4.0</td>\n",
       "      <td>2.0</td>\n",
       "      <td>6.0</td>\n",
       "      <td>-100.0</td>\n",
       "      <td>...</td>\n",
       "      <td>False</td>\n",
       "      <td>False</td>\n",
       "      <td>False</td>\n",
       "      <td>False</td>\n",
       "      <td>False</td>\n",
       "      <td>False</td>\n",
       "      <td>False</td>\n",
       "      <td>False</td>\n",
       "      <td>False</td>\n",
       "      <td>False</td>\n",
       "    </tr>\n",
       "    <tr>\n",
       "      <th>1687</th>\n",
       "      <td>1688</td>\n",
       "      <td>-100.0</td>\n",
       "      <td>1.0</td>\n",
       "      <td>6.0</td>\n",
       "      <td>1.0</td>\n",
       "      <td>-100.0</td>\n",
       "      <td>3.0</td>\n",
       "      <td>2.0</td>\n",
       "      <td>12.0</td>\n",
       "      <td>-100.0</td>\n",
       "      <td>...</td>\n",
       "      <td>False</td>\n",
       "      <td>False</td>\n",
       "      <td>False</td>\n",
       "      <td>False</td>\n",
       "      <td>False</td>\n",
       "      <td>False</td>\n",
       "      <td>False</td>\n",
       "      <td>False</td>\n",
       "      <td>False</td>\n",
       "      <td>False</td>\n",
       "    </tr>\n",
       "  </tbody>\n",
       "</table>\n",
       "<p>17 rows × 107 columns</p>\n",
       "</div>"
      ],
      "text/plain": [
       "      time_step  unit_sales_1  unit_sales_2  unit_sales_3  unit_sales_4  \\\n",
       "1671       1672           0.0           0.0           0.0           0.0   \n",
       "1672       1673           6.0           5.0           2.0        -100.0   \n",
       "1673       1674           1.0           2.0           2.0           3.0   \n",
       "1674       1675           5.0           3.0          13.0           7.0   \n",
       "1675       1676          17.0           6.0          11.0        -100.0   \n",
       "1676       1677           2.0          22.0          13.0           6.0   \n",
       "1677       1678           0.0           0.0           0.0           0.0   \n",
       "1678       1679           0.0           0.0           0.0           0.0   \n",
       "1679       1680           2.0           1.0           5.0        -100.0   \n",
       "1680       1681           4.0           3.0           6.0           3.0   \n",
       "1681       1682           1.0        -100.0          15.0        -100.0   \n",
       "1682       1683          10.0           3.0          10.0           2.0   \n",
       "1683       1684           2.0          16.0           8.0           7.0   \n",
       "1684       1685           0.0           0.0           0.0           0.0   \n",
       "1685       1686           0.0           0.0           0.0           0.0   \n",
       "1686       1687           8.0           1.0           2.0           1.0   \n",
       "1687       1688        -100.0           1.0           6.0           1.0   \n",
       "\n",
       "      unit_sales_5  unit_sales_6  unit_sales_7  unit_sales_8  unit_sales_9  \\\n",
       "1671           0.0           0.0           0.0           0.0           0.0   \n",
       "1672           1.0        -100.0           2.0           9.0        -100.0   \n",
       "1673           1.0           5.0           8.0           5.0        -100.0   \n",
       "1674        -100.0           2.0        -100.0           3.0        -100.0   \n",
       "1675           3.0          13.0        -100.0           2.0        -100.0   \n",
       "1676           5.0           1.0           1.0          15.0        -100.0   \n",
       "1677           0.0           0.0           0.0           0.0           0.0   \n",
       "1678           0.0           0.0           0.0           0.0           0.0   \n",
       "1679        -100.0           6.0        -100.0           2.0        -100.0   \n",
       "1680           4.0           8.0           5.0           1.0        -100.0   \n",
       "1681           1.0           2.0        -100.0          10.0        -100.0   \n",
       "1682        -100.0           3.0           1.0          14.0        -100.0   \n",
       "1683        -100.0           2.0        -100.0          14.0        -100.0   \n",
       "1684           0.0           0.0           0.0           0.0           0.0   \n",
       "1685           0.0           0.0           0.0           0.0           0.0   \n",
       "1686        -100.0           4.0           2.0           6.0        -100.0   \n",
       "1687        -100.0           3.0           2.0          12.0        -100.0   \n",
       "\n",
       "           ...        onpromotion_44  onpromotion_45  onpromotion_46  \\\n",
       "1671       ...                 False           False           False   \n",
       "1672       ...                 False           False           False   \n",
       "1673       ...                 False           False           False   \n",
       "1674       ...                 False           False           False   \n",
       "1675       ...                 False           False           False   \n",
       "1676       ...                 False           False           False   \n",
       "1677       ...                 False           False           False   \n",
       "1678       ...                 False           False           False   \n",
       "1679       ...                 False           False           False   \n",
       "1680       ...                 False           False           False   \n",
       "1681       ...                 False           False           False   \n",
       "1682       ...                 False           False           False   \n",
       "1683       ...                 False           False           False   \n",
       "1684       ...                 False           False           False   \n",
       "1685       ...                 False           False           False   \n",
       "1686       ...                 False           False           False   \n",
       "1687       ...                 False           False           False   \n",
       "\n",
       "      onpromotion_47  onpromotion_48  onpromotion_49  onpromotion_50  \\\n",
       "1671           False           False           False           False   \n",
       "1672           False           False           False           False   \n",
       "1673           False           False           False           False   \n",
       "1674           False           False           False           False   \n",
       "1675           False           False           False           False   \n",
       "1676           False           False           False           False   \n",
       "1677           False           False           False           False   \n",
       "1678           False           False           False           False   \n",
       "1679           False           False           False           False   \n",
       "1680           False           False           False           False   \n",
       "1681           False           False           False           False   \n",
       "1682           False           False           False           False   \n",
       "1683           False           False           False           False   \n",
       "1684           False           False           False           False   \n",
       "1685           False           False           False           False   \n",
       "1686           False           False           False           False   \n",
       "1687           False           False           False           False   \n",
       "\n",
       "      onpromotion_51  onpromotion_52  onpromotion_53  \n",
       "1671           False           False           False  \n",
       "1672           False           False           False  \n",
       "1673           False           False           False  \n",
       "1674           False           False           False  \n",
       "1675           False           False           False  \n",
       "1676           False           False           False  \n",
       "1677           False           False           False  \n",
       "1678           False           False           False  \n",
       "1679           False           False           False  \n",
       "1680           False           False           False  \n",
       "1681           False           False           False  \n",
       "1682           False           False           False  \n",
       "1683           False           False           False  \n",
       "1684           False           False           False  \n",
       "1685           False           False           False  \n",
       "1686           False           False           False  \n",
       "1687           False           False           False  \n",
       "\n",
       "[17 rows x 107 columns]"
      ]
     },
     "execution_count": 29,
     "metadata": {},
     "output_type": "execute_result"
    }
   ],
   "source": [
    "#Select a single item that is known to be a candidate\n",
    "#Candidate 50 seems to have enough going on\n",
    "Set_1 = pd.read_csv(database_path +'item_'+ str(Test_Item_Candidates.item_nbr[50])  +'.csv')\n",
    "Set_1 = Set_1.drop(['Unnamed: 0'],axis=1)\n",
    "Set_1.tail(17)"
   ]
  },
  {
   "cell_type": "code",
   "execution_count": 78,
   "metadata": {
    "collapsed": true
   },
   "outputs": [],
   "source": [
    "def prep_data(dataset, target_Col, look_Back):\n",
    "    X=[]\n",
    "    y=[]\n",
    "    for i in range(len(dataset) - look_Back - 16+1):\n",
    "        X.append(dataset[i:i+look_Back,:])\n",
    "        y.append(dataset[i + look_Back :i+ look_Back + 16,1])\n",
    "        pred = dataset[len(dataset) - look_Back:len(dataset),:]\n",
    "    return X, y, pred"
   ]
  },
  {
   "cell_type": "code",
   "execution_count": 79,
   "metadata": {},
   "outputs": [
    {
     "data": {
      "text/plain": [
       "7    8\n",
       "8    9\n",
       "dtype: int64"
      ]
     },
     "execution_count": 79,
     "metadata": {},
     "output_type": "execute_result"
    }
   ],
   "source": [
    "t = pd.Series(range(1,10))\n",
    "t[len(t) - 2:len(t)]"
   ]
  },
  {
   "cell_type": "code",
   "execution_count": 80,
   "metadata": {},
   "outputs": [],
   "source": [
    "aSet = Set_1.values\n",
    "A, b, pred = prep_data(aSet, 1,30)"
   ]
  },
  {
   "cell_type": "code",
   "execution_count": 81,
   "metadata": {},
   "outputs": [
    {
     "data": {
      "text/plain": [
       "(30, 107)"
      ]
     },
     "execution_count": 81,
     "metadata": {},
     "output_type": "execute_result"
    }
   ],
   "source": [
    "np.array(pred).shape"
   ]
  },
  {
   "cell_type": "code",
   "execution_count": 36,
   "metadata": {},
   "outputs": [
    {
     "data": {
      "text/plain": [
       "array([1672, 0.0, 0.0, 0.0, 0.0, 0.0, 0.0, 0.0, 0.0, 0.0, 0.0, 0.0, 0.0,\n",
       "       0.0, 0.0, 0.0, 0.0, 0.0, 0.0, 0.0, 0.0, 0.0, 0.0, 0.0, 0.0, 0.0,\n",
       "       0.0, 0.0, 0.0, 0.0, 0.0, 0.0, 0.0, 0.0, 0.0, 0.0, 0.0, 0.0, 0.0,\n",
       "       0.0, 0.0, 0.0, 0.0, 0.0, 0.0, 0.0, 0.0, 0.0, 0.0, 0.0, 0.0, 0.0,\n",
       "       0.0, 0.0, False, False, False, False, False, False, False, False,\n",
       "       False, False, False, False, False, False, False, False, False,\n",
       "       False, False, False, False, False, False, False, False, False,\n",
       "       False, False, False, False, False, False, False, False, False,\n",
       "       False, False, False, False, False, False, False, False, False,\n",
       "       False, False, False, False, False, False, False, False, False], dtype=object)"
      ]
     },
     "execution_count": 36,
     "metadata": {},
     "output_type": "execute_result"
    }
   ],
   "source": [
    "A[1642][29]"
   ]
  },
  {
   "cell_type": "code",
   "execution_count": 37,
   "metadata": {},
   "outputs": [
    {
     "data": {
      "text/plain": [
       "array([6.0, 1.0, 5.0, 17.0, 2.0, 0.0, 0.0, 2.0, 4.0, 1.0, 10.0, 2.0, 0.0,\n",
       "       0.0, 8.0, -100.0], dtype=object)"
      ]
     },
     "execution_count": 37,
     "metadata": {},
     "output_type": "execute_result"
    }
   ],
   "source": [
    "b[1642]"
   ]
  },
  {
   "cell_type": "code",
   "execution_count": 82,
   "metadata": {},
   "outputs": [
    {
     "data": {
      "text/plain": [
       "(1643, 30, 107)"
      ]
     },
     "execution_count": 82,
     "metadata": {},
     "output_type": "execute_result"
    }
   ],
   "source": [
    "np.array(b).shape\n",
    "np.array(A).shape"
   ]
  },
  {
   "cell_type": "code",
   "execution_count": 83,
   "metadata": {},
   "outputs": [
    {
     "data": {
      "text/plain": [
       "Index(['unit_sales_1', 'unit_sales_2', 'onpromotion_1', 'onpromotion_2'], dtype='object')"
      ]
     },
     "execution_count": 83,
     "metadata": {},
     "output_type": "execute_result"
    }
   ],
   "source": [
    "Set_1.columns[[1,2,54,55]]"
   ]
  },
  {
   "cell_type": "code",
   "execution_count": 92,
   "metadata": {},
   "outputs": [
    {
     "data": {
      "text/plain": [
       "(1643, 30, 4)"
      ]
     },
     "execution_count": 92,
     "metadata": {},
     "output_type": "execute_result"
    }
   ],
   "source": [
    "X = np.array(A)[:,:,[1,2,54,55]]\n",
    "pred = np.array(pred)[:,[1,2,54,55]]\n",
    "y = np.array(b)\n",
    "X.shape"
   ]
  },
  {
   "cell_type": "code",
   "execution_count": 93,
   "metadata": {},
   "outputs": [
    {
     "name": "stdout",
     "output_type": "stream",
     "text": [
      "Train on 1150 samples, validate on 493 samples\n",
      "Epoch 1/100\n",
      "1150/1150 [==============================] - 1s 601us/step - loss: 1111.2431 - val_loss: 984.3588\n",
      "Epoch 2/100\n",
      "1150/1150 [==============================] - 0s 188us/step - loss: 1109.7499 - val_loss: 983.3362\n",
      "Epoch 3/100\n",
      "1150/1150 [==============================] - 0s 185us/step - loss: 1108.2723 - val_loss: 982.1881\n",
      "Epoch 4/100\n",
      "1150/1150 [==============================] - 0s 177us/step - loss: 1106.5228 - val_loss: 980.7293\n",
      "Epoch 5/100\n",
      "1150/1150 [==============================] - 0s 195us/step - loss: 1104.3631 - val_loss: 978.7970\n",
      "Epoch 6/100\n",
      "1150/1150 [==============================] - 0s 181us/step - loss: 1101.5787 - val_loss: 976.3805\n",
      "Epoch 7/100\n",
      "1150/1150 [==============================] - 0s 184us/step - loss: 1098.0859 - val_loss: 973.7685\n",
      "Epoch 8/100\n",
      "1150/1150 [==============================] - 0s 184us/step - loss: 1094.3076 - val_loss: 971.0000\n",
      "Epoch 9/100\n",
      "1150/1150 [==============================] - 0s 185us/step - loss: 1090.2991 - val_loss: 967.8350\n",
      "Epoch 10/100\n",
      "1150/1150 [==============================] - 0s 184us/step - loss: 1085.9494 - val_loss: 964.6959\n",
      "Epoch 11/100\n",
      "1150/1150 [==============================] - 0s 187us/step - loss: 1081.7821 - val_loss: 961.6791\n",
      "Epoch 12/100\n",
      "1150/1150 [==============================] - 0s 191us/step - loss: 1078.2300 - val_loss: 959.2760\n",
      "Epoch 13/100\n",
      "1150/1150 [==============================] - 0s 189us/step - loss: 1075.3383 - val_loss: 957.3067\n",
      "Epoch 14/100\n",
      "1150/1150 [==============================] - 0s 193us/step - loss: 1072.8491 - val_loss: 955.6422\n",
      "Epoch 15/100\n",
      "1150/1150 [==============================] - 0s 187us/step - loss: 1070.8243 - val_loss: 954.2197\n",
      "Epoch 16/100\n",
      "1150/1150 [==============================] - 0s 189us/step - loss: 1069.0614 - val_loss: 953.0219\n",
      "Epoch 17/100\n",
      "1150/1150 [==============================] - 0s 184us/step - loss: 1067.5200 - val_loss: 951.9832\n",
      "Epoch 18/100\n",
      "1150/1150 [==============================] - 0s 200us/step - loss: 1066.1602 - val_loss: 951.0358\n",
      "Epoch 19/100\n",
      "1150/1150 [==============================] - 0s 193us/step - loss: 1064.9059 - val_loss: 950.2251\n",
      "Epoch 20/100\n",
      "1150/1150 [==============================] - 0s 195us/step - loss: 1063.8212 - val_loss: 949.4982\n",
      "Epoch 21/100\n",
      "1150/1150 [==============================] - 0s 190us/step - loss: 1062.7703 - val_loss: 948.8561\n",
      "Epoch 22/100\n",
      "1150/1150 [==============================] - 0s 189us/step - loss: 1061.8746 - val_loss: 948.3020\n",
      "Epoch 23/100\n",
      "1150/1150 [==============================] - 0s 199us/step - loss: 1061.0335 - val_loss: 947.8071\n",
      "Epoch 24/100\n",
      "1150/1150 [==============================] - 0s 195us/step - loss: 1060.2998 - val_loss: 947.3396\n",
      "Epoch 25/100\n",
      "1150/1150 [==============================] - 0s 194us/step - loss: 1059.6136 - val_loss: 946.9405\n",
      "Epoch 26/100\n",
      "1150/1150 [==============================] - 0s 188us/step - loss: 1059.0088 - val_loss: 946.5884\n",
      "Epoch 27/100\n",
      "1150/1150 [==============================] - 0s 195us/step - loss: 1058.4289 - val_loss: 946.2858\n",
      "Epoch 28/100\n",
      "1150/1150 [==============================] - 0s 186us/step - loss: 1057.9294 - val_loss: 946.0074\n",
      "Epoch 29/100\n",
      "1150/1150 [==============================] - 0s 194us/step - loss: 1057.4696 - val_loss: 945.7439\n",
      "Epoch 30/100\n",
      "1150/1150 [==============================] - 0s 197us/step - loss: 1057.0525 - val_loss: 945.5496\n",
      "Epoch 31/100\n",
      "1150/1150 [==============================] - 0s 198us/step - loss: 1056.6647 - val_loss: 945.3827\n",
      "Epoch 32/100\n",
      "1150/1150 [==============================] - 0s 196us/step - loss: 1056.3120 - val_loss: 945.2187\n",
      "Epoch 33/100\n",
      "1150/1150 [==============================] - 0s 195us/step - loss: 1055.9732 - val_loss: 945.0817\n",
      "Epoch 34/100\n",
      "1150/1150 [==============================] - 0s 197us/step - loss: 1055.7161 - val_loss: 944.9571\n",
      "Epoch 35/100\n",
      "1150/1150 [==============================] - 0s 189us/step - loss: 1055.4421 - val_loss: 944.8740\n",
      "Epoch 36/100\n",
      "1150/1150 [==============================] - 0s 187us/step - loss: 1055.2122 - val_loss: 944.7838\n",
      "Epoch 37/100\n",
      "1150/1150 [==============================] - 0s 189us/step - loss: 1054.9756 - val_loss: 944.7028\n",
      "Epoch 38/100\n",
      "1150/1150 [==============================] - 0s 197us/step - loss: 1054.7877 - val_loss: 944.6183\n",
      "Epoch 39/100\n",
      "1150/1150 [==============================] - 0s 199us/step - loss: 1054.6009 - val_loss: 944.5643\n",
      "Epoch 40/100\n",
      "1150/1150 [==============================] - 0s 196us/step - loss: 1054.4533 - val_loss: 944.5304\n",
      "Epoch 41/100\n",
      "1150/1150 [==============================] - 0s 203us/step - loss: 1054.2936 - val_loss: 944.4668\n",
      "Epoch 42/100\n",
      "1150/1150 [==============================] - 0s 196us/step - loss: 1054.1546 - val_loss: 944.4225\n",
      "Epoch 43/100\n",
      "1150/1150 [==============================] - 0s 201us/step - loss: 1054.0333 - val_loss: 944.4042\n",
      "Epoch 44/100\n",
      "1150/1150 [==============================] - 0s 187us/step - loss: 1053.9200 - val_loss: 944.3930\n",
      "Epoch 45/100\n",
      "1150/1150 [==============================] - 0s 203us/step - loss: 1053.7832 - val_loss: 944.3310\n",
      "Epoch 46/100\n",
      "1150/1150 [==============================] - 0s 189us/step - loss: 1053.6719 - val_loss: 944.3588\n",
      "Epoch 47/100\n",
      "1150/1150 [==============================] - 0s 186us/step - loss: 1053.5486 - val_loss: 944.3808\n",
      "Epoch 48/100\n",
      "1150/1150 [==============================] - 0s 198us/step - loss: 1053.3917 - val_loss: 944.3068\n",
      "Epoch 49/100\n",
      "1150/1150 [==============================] - 0s 196us/step - loss: 1053.1954 - val_loss: 944.3183\n",
      "Epoch 50/100\n",
      "1150/1150 [==============================] - 0s 196us/step - loss: 1052.8301 - val_loss: 944.4011\n",
      "Epoch 51/100\n",
      "1150/1150 [==============================] - 0s 197us/step - loss: 1052.5690 - val_loss: 944.3723\n",
      "Epoch 52/100\n",
      "1150/1150 [==============================] - 0s 201us/step - loss: 1052.3920 - val_loss: 944.3194\n",
      "Epoch 53/100\n",
      "1150/1150 [==============================] - 0s 192us/step - loss: 1052.4134 - val_loss: 944.1356\n",
      "Epoch 54/100\n",
      "1150/1150 [==============================] - 0s 194us/step - loss: 1052.3585 - val_loss: 944.5889\n",
      "Epoch 55/100\n",
      "1150/1150 [==============================] - 0s 192us/step - loss: 1051.9221 - val_loss: 944.5227\n",
      "Epoch 56/100\n",
      "1150/1150 [==============================] - 0s 192us/step - loss: 1051.6760 - val_loss: 944.4032\n",
      "Epoch 57/100\n",
      "1150/1150 [==============================] - 0s 196us/step - loss: 1051.3803 - val_loss: 944.4435\n",
      "Epoch 58/100\n",
      "1150/1150 [==============================] - 0s 184us/step - loss: 1050.7883 - val_loss: 944.8455\n",
      "Epoch 59/100\n",
      "1150/1150 [==============================] - 0s 196us/step - loss: 1050.3820 - val_loss: 944.5839\n",
      "Epoch 60/100\n",
      "1150/1150 [==============================] - 0s 193us/step - loss: 1049.8964 - val_loss: 944.3430\n",
      "Epoch 61/100\n",
      "1150/1150 [==============================] - 0s 185us/step - loss: 1049.5841 - val_loss: 943.1822\n",
      "Epoch 62/100\n",
      "1150/1150 [==============================] - 0s 197us/step - loss: 1049.1763 - val_loss: 944.0931\n",
      "Epoch 63/100\n",
      "1150/1150 [==============================] - 0s 189us/step - loss: 1048.4284 - val_loss: 944.2437\n",
      "Epoch 64/100\n",
      "1150/1150 [==============================] - 0s 193us/step - loss: 1047.4500 - val_loss: 943.0323\n",
      "Epoch 65/100\n",
      "1150/1150 [==============================] - 0s 195us/step - loss: 1046.6303 - val_loss: 941.1225\n",
      "Epoch 66/100\n",
      "1150/1150 [==============================] - 0s 199us/step - loss: 1046.2130 - val_loss: 943.8981\n",
      "Epoch 67/100\n",
      "1150/1150 [==============================] - 0s 183us/step - loss: 1045.8093 - val_loss: 942.7681\n",
      "Epoch 68/100\n",
      "1150/1150 [==============================] - 0s 198us/step - loss: 1044.8279 - val_loss: 944.0109\n",
      "Epoch 69/100\n",
      "1150/1150 [==============================] - 0s 196us/step - loss: 1043.8470 - val_loss: 947.1947\n",
      "Epoch 70/100\n",
      "1150/1150 [==============================] - 0s 187us/step - loss: 1043.1679 - val_loss: 941.1266\n",
      "Epoch 71/100\n",
      "1150/1150 [==============================] - 0s 193us/step - loss: 1043.4030 - val_loss: 943.4210\n",
      "Epoch 72/100\n",
      "1150/1150 [==============================] - 0s 179us/step - loss: 1042.3488 - val_loss: 947.0799\n",
      "Epoch 73/100\n",
      "1150/1150 [==============================] - 0s 192us/step - loss: 1041.0790 - val_loss: 944.7176\n",
      "Epoch 74/100\n"
     ]
    },
    {
     "name": "stdout",
     "output_type": "stream",
     "text": [
      "1150/1150 [==============================] - 0s 186us/step - loss: 1039.9990 - val_loss: 945.6933\n",
      "Epoch 75/100\n",
      "1150/1150 [==============================] - 0s 174us/step - loss: 1039.2677 - val_loss: 949.0173\n",
      "Epoch 76/100\n",
      "1150/1150 [==============================] - 0s 175us/step - loss: 1038.6931 - val_loss: 948.9347\n",
      "Epoch 77/100\n",
      "1150/1150 [==============================] - 0s 179us/step - loss: 1037.5617 - val_loss: 949.2906\n",
      "Epoch 78/100\n",
      "1150/1150 [==============================] - 0s 177us/step - loss: 1037.0450 - val_loss: 948.0350\n",
      "Epoch 79/100\n",
      "1150/1150 [==============================] - 0s 175us/step - loss: 1036.1458 - val_loss: 950.5244\n",
      "Epoch 80/100\n",
      "1150/1150 [==============================] - 0s 174us/step - loss: 1035.5316 - val_loss: 949.9902\n",
      "Epoch 81/100\n",
      "1150/1150 [==============================] - 0s 177us/step - loss: 1034.0519 - val_loss: 949.8757\n",
      "Epoch 82/100\n",
      "1150/1150 [==============================] - 0s 180us/step - loss: 1032.8192 - val_loss: 951.6557\n",
      "Epoch 83/100\n",
      "1150/1150 [==============================] - 0s 173us/step - loss: 1032.7546 - val_loss: 954.2352\n",
      "Epoch 84/100\n",
      "1150/1150 [==============================] - 0s 182us/step - loss: 1032.1640 - val_loss: 950.6791\n",
      "Epoch 85/100\n",
      "1150/1150 [==============================] - 0s 179us/step - loss: 1030.9471 - val_loss: 952.1421\n",
      "Epoch 86/100\n",
      "1150/1150 [==============================] - 0s 174us/step - loss: 1031.4185 - val_loss: 950.5470\n",
      "Epoch 87/100\n",
      "1150/1150 [==============================] - 0s 176us/step - loss: 1030.3989 - val_loss: 950.7791\n",
      "Epoch 88/100\n",
      "1150/1150 [==============================] - 0s 174us/step - loss: 1029.5246 - val_loss: 953.3796\n",
      "Epoch 89/100\n",
      "1150/1150 [==============================] - 0s 175us/step - loss: 1028.7209 - val_loss: 953.7908\n",
      "Epoch 90/100\n",
      "1150/1150 [==============================] - 0s 175us/step - loss: 1028.0448 - val_loss: 952.3111\n",
      "Epoch 91/100\n",
      "1150/1150 [==============================] - 0s 169us/step - loss: 1027.0274 - val_loss: 953.1322\n",
      "Epoch 92/100\n",
      "1150/1150 [==============================] - 0s 182us/step - loss: 1026.7403 - val_loss: 955.2654\n",
      "Epoch 93/100\n",
      "1150/1150 [==============================] - 0s 179us/step - loss: 1026.9304 - val_loss: 954.1554\n",
      "Epoch 94/100\n",
      "1150/1150 [==============================] - 0s 185us/step - loss: 1025.7714 - val_loss: 953.8537\n",
      "Epoch 95/100\n",
      "1150/1150 [==============================] - 0s 176us/step - loss: 1026.1361 - val_loss: 953.9773\n",
      "Epoch 96/100\n",
      "1150/1150 [==============================] - 0s 181us/step - loss: 1025.5616 - val_loss: 955.5859\n",
      "Epoch 97/100\n",
      "1150/1150 [==============================] - 0s 176us/step - loss: 1025.6796 - val_loss: 953.5360\n",
      "Epoch 98/100\n",
      "1150/1150 [==============================] - 0s 171us/step - loss: 1025.1941 - val_loss: 956.3530\n",
      "Epoch 99/100\n",
      "1150/1150 [==============================] - 0s 178us/step - loss: 1024.3347 - val_loss: 958.6391\n",
      "Epoch 100/100\n",
      "1150/1150 [==============================] - 0s 179us/step - loss: 1023.7411 - val_loss: 958.4555\n"
     ]
    },
    {
     "data": {
      "text/plain": [
       "<keras.callbacks.History at 0x7f10f55282e8>"
      ]
     },
     "execution_count": 93,
     "metadata": {},
     "output_type": "execute_result"
    }
   ],
   "source": [
    "model = Sequential()\n",
    "model.add(LSTM(20, input_shape = (30,4)))\n",
    "model.add(Dense(16))\n",
    "model.compile(loss = 'mean_squared_error', optimizer = 'adam')\n",
    "model.fit(X, y, validation_split = .3, epochs = 100, batch_size = 100, verbose = 1)"
   ]
  },
  {
   "cell_type": "code",
   "execution_count": 94,
   "metadata": {},
   "outputs": [
    {
     "data": {
      "text/plain": [
       "(1643, 30, 4)"
      ]
     },
     "execution_count": 94,
     "metadata": {},
     "output_type": "execute_result"
    }
   ],
   "source": [
    "X.shape"
   ]
  },
  {
   "cell_type": "code",
   "execution_count": 95,
   "metadata": {},
   "outputs": [],
   "source": [
    "s = pred.reshape(1,pred.shape[0],pred.shape[1])"
   ]
  },
  {
   "cell_type": "code",
   "execution_count": 96,
   "metadata": {},
   "outputs": [
    {
     "data": {
      "text/plain": [
       "array([[-5.31099796, -5.80421019, -6.36868286, -6.52695274, -6.23614216,\n",
       "        -5.77478218, -6.40527439, -6.49669313, -7.19526625, -7.21782923,\n",
       "        -6.88676262, -6.89384747, -7.2648654 , -6.0042634 , -6.56038666,\n",
       "        -6.48779869]], dtype=float32)"
      ]
     },
     "execution_count": 96,
     "metadata": {},
     "output_type": "execute_result"
    }
   ],
   "source": [
    "model.predict(s)"
   ]
  },
  {
   "cell_type": "code",
   "execution_count": null,
   "metadata": {
    "collapsed": true
   },
   "outputs": [],
   "source": []
  }
 ],
 "metadata": {
  "kernelspec": {
   "display_name": "Python 3",
   "language": "python",
   "name": "python3"
  },
  "language_info": {
   "codemirror_mode": {
    "name": "ipython",
    "version": 3
   },
   "file_extension": ".py",
   "mimetype": "text/x-python",
   "name": "python",
   "nbconvert_exporter": "python",
   "pygments_lexer": "ipython3",
   "version": "3.6.3"
  }
 },
 "nbformat": 4,
 "nbformat_minor": 2
}
